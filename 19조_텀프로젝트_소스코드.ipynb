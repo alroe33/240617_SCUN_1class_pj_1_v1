{
 "cells": [
  {
   "cell_type": "code",
   "execution_count": 119,
   "metadata": {},
   "outputs": [],
   "source": [
    "import pandas as pd\n",
    "import folium\n",
    "\n",
    "filename = \"행정구역주민등록인구.csv\"  \n",
    "\n",
    "# CSV 파일 읽기\n",
    "df = pd.read_csv(filename, encoding='ANSI') #이거 안쓰면 한글 안읽힘\n",
    "\n",
    "df.head()\n",
    "\n",
    "# 필요한 열 선택 \n",
    "data = df.iloc[2:20, 0:14]\n",
    "\n",
    "# 컬럼생성\n",
    "data.columns = ['행정구역','총인구수','1997_20','1997_25','1997_30',\n",
    "                '2000_20','2000_25','2000_30',\n",
    "                '2010_20','2010_25','2010_30',\n",
    "                '2023_20','2023_25','2023_30',]  #컬럼생성\n",
    "\n",
    "data=data.drop('총인구수',axis=1)   #총인구는 데이터 작업에 필요치 않으니 제거\n",
    "data[['1997_20','1997_25','1997_30',\n",
    "                '2000_20','2000_25','2000_30',\n",
    "                '2010_20','2010_25','2010_30',\n",
    "                '2023_20','2023_25','2023_30']]=data[['1997_20','1997_25','1997_30',\n",
    "                '2000_20','2000_25','2000_30',\n",
    "                '2010_20','2010_25','2010_30',\n",
    "                '2023_20','2023_25','2023_30']].apply(pd.to_numeric)\n",
    "data.loc[:,'1997_총 합']=data.loc[:,'1997_20':'1997_30'].sum(axis=1)\n",
    "data.loc[:,'2000_총 합']=data.loc[:,'2000_20':'2000_30'].sum(axis=1)\n",
    "data.loc[:,'2010_총 합']=data.loc[:,'2010_20':'2010_30'].sum(axis=1)\n",
    "data.loc[:,'2023_총 합']=data.loc[:,'2023_20':'2023_30'].sum(axis=1)\n",
    "\n",
    "# 위도경도 데이터 입력\n",
    "city_cords = {\n",
    "    '서울특별시': [37.5665, 126.9780],\n",
    "    '부산광역시': [35.1796, 129.0756],\n",
    "    '경기도': [37.3066, 127.0606],\n",
    "    '세종특별자치시':[36.5674, 127.2575],\n",
    "    '대구광역시': [35.8290, 128.5659],\n",
    "    '인천광역시': [37.4582, 126.7036],\n",
    "    '광주광역시': [35.1565, 126.8357],\n",
    "    '대전광역시': [36.3757, 127.3975],\n",
    "    '울산광역시': [35.5931, 129.2475],\n",
    "    '경기도': [37.4831, 127.5203],\n",
    "    '강원특별자치도': [37.8558, 128.6005],\n",
    "    '충청북도': [37.0547, 127.7058],\n",
    "    '충청남도': [36.7961, 126.8144],\n",
    "    '전북특별자치도': [35.7620, 127.1475],\n",
    "    '전라남도': [34.9565, 126.9852],\n",
    "    '경상북도': [36.2704, 128.8968],\n",
    "    '경상남도': [35.5443, 128.2264],\n",
    "    '제주특별자치도': [33.4439, 126.8030]\n",
    "}\n"
   ]
  },
  {
   "cell_type": "code",
   "execution_count": 121,
   "metadata": {},
   "outputs": [],
   "source": [
    "map_center = [37.5665, 126.9780]    #맵 시작 위치 설정\n",
    "m = folium.Map(location=map_center, zoom_start=7)   #맵 줌 사이즈 설정"
   ]
  },
  {
   "cell_type": "code",
   "execution_count": 122,
   "metadata": {},
   "outputs": [],
   "source": [
    "data['latitude'] = data['행정구역'].apply(lambda x: city_cords.get(x, [0, 0])[0])   #위도 데이터    \n",
    "data['longitude'] = data['행정구역'].apply(lambda x: city_cords.get(x, [0, 0])[1])  #경도 데이터\n",
    "data['ratio'] = data['2023_총 합']   #반지름 데이터"
   ]
  },
  {
   "cell_type": "code",
   "execution_count": 123,
   "metadata": {},
   "outputs": [],
   "source": [
    "years=[1997,2000,2010,2023]"
   ]
  },
  {
   "cell_type": "code",
   "execution_count": 124,
   "metadata": {},
   "outputs": [],
   "source": [
    "# 최대 인구 수 구하기 (상대적인 크기 생성을 위해)\n",
    "max_population = data[['1997_총 합', '2000_총 합', '2010_총 합','2023_총 합']].max().max().max()"
   ]
  },
  {
   "cell_type": "code",
   "execution_count": 125,
   "metadata": {},
   "outputs": [],
   "source": [
    "for year in years:\n",
    "    m = folium.Map(location=[35.7665, 126.9780], zoom_start=7) #기본 위도 경도\n",
    "    \n",
    "    for index, row in data.iterrows():\n",
    "        total_population = float(row[f'{year}_총 합'])\n",
    "        all_radius = total_population / float(max_population) * 150 # 곱하는 숫자가 작을 수록 원 사이즈 감소\n",
    "        \n",
    "        folium.CircleMarker(\n",
    "            location=[row['latitude'], row['longitude']],\n",
    "            radius=all_radius,\n",
    "            popup=f\"{total_population}<br>총인구수: {total_population}\",\n",
    "            color='red',\n",
    "            fill=True,\n",
    "            fill_color='red'\n",
    "        ).add_to(m)\n",
    "    \n",
    "    # 년도에 맞게 HTML 파일로 저장\n",
    "    m.save(f\"map_{year}.html\")"
   ]
  },
  {
   "cell_type": "code",
   "execution_count": null,
   "metadata": {},
   "outputs": [],
   "source": []
  }
 ],
 "metadata": {
  "kernelspec": {
   "display_name": "Python 3",
   "language": "python",
   "name": "python3"
  },
  "language_info": {
   "codemirror_mode": {
    "name": "ipython",
    "version": 3
   },
   "file_extension": ".py",
   "mimetype": "text/x-python",
   "name": "python",
   "nbconvert_exporter": "python",
   "pygments_lexer": "ipython3",
   "version": "3.11.9"
  }
 },
 "nbformat": 4,
 "nbformat_minor": 2
}
